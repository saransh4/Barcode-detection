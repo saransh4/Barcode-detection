{
  "nbformat": 4,
  "nbformat_minor": 0,
  "metadata": {
    "colab": {
      "name": "Untitled2.ipynb",
      "version": "0.3.2",
      "provenance": []
    },
    "kernelspec": {
      "name": "python3",
      "display_name": "Python 3"
    }
  },
  "cells": [
    {
      "metadata": {
        "id": "1BZvWSqORemc",
        "colab_type": "code",
        "colab": {
          "base_uri": "https://localhost:8080/",
          "height": 34
        },
        "outputId": "4eea43e0-c2e7-4fe5-c06c-03666795017b"
      },
      "cell_type": "code",
      "source": [
        "from google.colab import drive\n",
        "drive.mount('/content/drive/',force_remount=True)"
      ],
      "execution_count": 11,
      "outputs": [
        {
          "output_type": "stream",
          "text": [
            "Mounted at /content/drive/\n"
          ],
          "name": "stdout"
        }
      ]
    },
    {
      "metadata": {
        "id": "taFghVHPRkFB",
        "colab_type": "code",
        "colab": {}
      },
      "cell_type": "code",
      "source": [
        "import numpy as np\n",
        "import pandas as pd\n",
        "import matplotlib.pyplot as plt"
      ],
      "execution_count": 0,
      "outputs": []
    },
    {
      "metadata": {
        "id": "FcobKqylR8Bf",
        "colab_type": "code",
        "colab": {}
      },
      "cell_type": "code",
      "source": [
        "X=np.load(open(r'/content/drive/My Drive/Colab Notebooks/train.npy','rb'))\n",
        "Y=pd.read_csv('/content/drive/My Drive/Colab Notebooks/labels.csv')"
      ],
      "execution_count": 0,
      "outputs": []
    },
    {
      "metadata": {
        "id": "d8CUGkbWWpA8",
        "colab_type": "code",
        "colab": {}
      },
      "cell_type": "code",
      "source": [
        "Y_train=Y.as_matrix()\n"
      ],
      "execution_count": 0,
      "outputs": []
    },
    {
      "metadata": {
        "id": "C5TECJFObCIb",
        "colab_type": "code",
        "colab": {
          "base_uri": "https://localhost:8080/",
          "height": 34
        },
        "outputId": "df31c88e-a769-4802-dfcc-d52b200db8e4"
      },
      "cell_type": "code",
      "source": [
        "X.shape"
      ],
      "execution_count": 30,
      "outputs": [
        {
          "output_type": "execute_result",
          "data": {
            "text/plain": [
              "(365, 150, 200, 1)"
            ]
          },
          "metadata": {
            "tags": []
          },
          "execution_count": 30
        }
      ]
    },
    {
      "metadata": {
        "id": "x3M-6Vg4bz_n",
        "colab_type": "code",
        "colab": {
          "base_uri": "https://localhost:8080/",
          "height": 34
        },
        "outputId": "7e338853-2448-411c-a45b-d6c3d46d4cd8"
      },
      "cell_type": "code",
      "source": [
        "from keras.layers import Input, Add, Dense, Activation, ZeroPadding2D, BatchNormalization, Flatten,Dropout, Conv2D, AveragePooling2D, MaxPooling2D, GlobalMaxPooling2D,Dropout\n",
        "from keras.models import Model, load_model\n",
        "from keras.initializers import glorot_uniform\n",
        "from keras.optimizers import Adam\n",
        "from keras.regularizers import l2"
      ],
      "execution_count": 26,
      "outputs": [
        {
          "output_type": "stream",
          "text": [
            "Using TensorFlow backend.\n"
          ],
          "name": "stderr"
        }
      ]
    },
    {
      "metadata": {
        "id": "cuom9qk4b4bU",
        "colab_type": "code",
        "colab": {}
      },
      "cell_type": "code",
      "source": [
        "def basic_net(X, f, filters, stage, block):\n",
        "\n",
        "    conv_name_base = 'res' + str(stage) + block + '_branch'\n",
        "    bn_name_base = 'bn' + str(stage) + block + '_branch'\n",
        "\n",
        "    F1, F2, F3 = filters\n",
        "    X_shortcut = X\n",
        "\n",
        "    X = Conv2D(filters = F1, kernel_size = (1, 1), strides = (1,1), padding = 'valid', name = conv_name_base + '2a', kernel_initializer = glorot_uniform())(X)\n",
        "    X = BatchNormalization(axis = 3, name = bn_name_base + '2a')(X)\n",
        "    X = Activation('relu')(X)\n",
        "\n",
        "    X = Conv2D(F2,(f,f),strides=(1,1),padding='same',name=conv_name_base+'2b',kernel_initializer=glorot_uniform())(X)\n",
        "    X = BatchNormalization(axis=3,name=bn_name_base+'2b')(X)\n",
        "    X = Activation('relu')(X)\n",
        "\n",
        "    X = Conv2D(F3,(1,1),strides=(1,1),padding='valid',name=conv_name_base+'2c',kernel_initializer=glorot_uniform())(X)\n",
        "    X = BatchNormalization(axis=3,name=bn_name_base+'2c')(X)\n",
        "\n",
        "    X = Add()([X,X_shortcut])\n",
        "    X = Activation('relu')(X)\n",
        "  \n",
        "    return X\n"
      ],
      "execution_count": 0,
      "outputs": []
    },
    {
      "metadata": {
        "id": "Ks1mE1-PcRoM",
        "colab_type": "code",
        "colab": {}
      },
      "cell_type": "code",
      "source": [
        "def conv_net(X, f, filters, stage, block, s = 2):\n",
        "\n",
        "    conv_name_base = 'res' + str(stage) + block + '_branch'\n",
        "    bn_name_base = 'bn' + str(stage) + block + '_branch'\n",
        "\n",
        "    F1, F2, F3 = filters\n",
        "\n",
        "    X_shortcut = X\n",
        "\n",
        "    X = Conv2D(F1, (1, 1), strides = (s,s), name = conv_name_base + '2a', kernel_initializer = glorot_uniform())(X)\n",
        "    X = BatchNormalization(axis = 3, name = bn_name_base + '2a')(X)\n",
        "    X = Activation('relu')(X)\n",
        "\n",
        "    X = Conv2D(F2,(f,f),strides=(1,1),padding='same',name=conv_name_base+'2b',kernel_initializer=glorot_uniform())(X)\n",
        "    X = BatchNormalization(axis=3,name=bn_name_base+'2b')(X)\n",
        "    X = Activation('relu')(X)\n",
        "\n",
        "    X = Conv2D(F3,(1,1),strides=(1,1),padding='valid',name=conv_name_base+'2c',kernel_initializer=glorot_uniform())(X)\n",
        "    X = BatchNormalization(axis=3,name=bn_name_base+'2c')(X)\n",
        "\n",
        " \n",
        "    X_shortcut = Conv2D(F3,(1,1),strides=(s,s),padding='valid',name=conv_name_base+'1',kernel_initializer=glorot_uniform())(X_shortcut)\n",
        "    X_shortcut = BatchNormalization(axis=3,name=bn_name_base)(X_shortcut)\n",
        "\n",
        "    X = Add()([X,X_shortcut])\n",
        "    X = Activation('relu')(X)\n",
        "   \n",
        "    return X   "
      ],
      "execution_count": 0,
      "outputs": []
    },
    {
      "metadata": {
        "id": "bnn9RuPQcXND",
        "colab_type": "code",
        "colab": {}
      },
      "cell_type": "code",
      "source": [
        "def  GeekNet(input_shape = (120, 90, 3)):\n",
        "    \n",
        "    X_input = Input(input_shape)\n",
        "\n",
        "    X = ZeroPadding2D((3, 3))(X_input)\n",
        "\n",
        "    X = Conv2D(64, (7, 7), strides = (2, 2), name = 'conv1', kernel_initializer = glorot_uniform())(X)\n",
        "    X = BatchNormalization(axis = 3, name = 'bn_conv1')(X)\n",
        "    X = Activation('relu')(X)\n",
        "    X = MaxPooling2D((3, 3), strides=(2, 2))(X)\n",
        "\n",
        "    X = conv_net(X, f = 3, filters = [64, 64, 256], stage = 2, block='a', s = 1)\n",
        "    X = basic_net(X, 3, [64, 64, 256], stage=2, block='b')\n",
        "    X = basic_net(X, 3, [64, 64, 256], stage=2, block='c')\n",
        "\n",
        "    X = conv_net(X,3,[128,128,512],stage=3,block='a',s=2)\n",
        "    X = basic_net(X,3,[128,128,512],stage=3,block='b')\n",
        "    X = basic_net(X,3,[128,128,512],stage=3,block='c')\n",
        "    X = basic_net(X,3,[128,128,512],stage=3,block='d')\n",
        "\n",
        "    X = conv_net(X,3,[256,256,1024],stage=4,block='a',s=2)\n",
        "    X = basic_net(X,3,[256,256,1024],stage=4,block='b')\n",
        "    X = basic_net(X,3,[256,256,1024],stage=4,block='c')\n",
        "    X = basic_net(X,3,[256,256,1024],stage=4,block='d')\n",
        "    X = basic_net(X,3,[256,256,1024],stage=4,block='e')\n",
        "    X = basic_net(X,3,[256,256,1024],stage=4,block='f')\n",
        "\n",
        "    X = conv_net(X,3,[512,512,2048],stage=5,block='a',s=2)\n",
        "    X = basic_net(X,3,[512,512,2048],stage=5,block='b')\n",
        "    X = basic_net(X,3,[512,512,2048],stage=5,block='c')\n",
        "\n",
        "    X = AveragePooling2D((2,2),name='avg_pool')(X)\n",
        " \n",
        "    X = Flatten()(X)\n",
        "    X = Dense(1024,name='fc1' , kernel_initializer = glorot_uniform())(X)\n",
        "    X = Dense(4, name='fc2' , kernel_initializer = glorot_uniform(),kernel_regularizer=l2(0.01))(X)\n",
        "    \n",
        "   \n",
        "    model = Model(inputs = X_input, outputs = X, name='GeekNet')\n",
        "\n",
        "    return model\n"
      ],
      "execution_count": 0,
      "outputs": []
    },
    {
      "metadata": {
        "id": "m_Ibhh9_cjEj",
        "colab_type": "code",
        "colab": {
          "base_uri": "https://localhost:8080/",
          "height": 87
        },
        "outputId": "dcb55546-5a4a-46dc-ae2d-7708060f1153"
      },
      "cell_type": "code",
      "source": [
        " model = GeekNet(input_shape = (150, 200, 1))\n",
        "\n",
        "opt=Adam(lr=0.000001,decay=0.00002)\n",
        "model.compile(optimizer='adam',loss='mean_squared_error',metrics=['accuracy'])\n"
      ],
      "execution_count": 31,
      "outputs": [
        {
          "output_type": "stream",
          "text": [
            "WARNING:tensorflow:From /usr/local/lib/python3.6/dist-packages/tensorflow/python/framework/op_def_library.py:263: colocate_with (from tensorflow.python.framework.ops) is deprecated and will be removed in a future version.\n",
            "Instructions for updating:\n",
            "Colocations handled automatically by placer.\n"
          ],
          "name": "stdout"
        }
      ]
    },
    {
      "metadata": {
        "id": "JXE45BI9dTbm",
        "colab_type": "code",
        "colab": {}
      },
      "cell_type": "code",
      "source": [
        "def iou(y,yh):\n",
        "  x1=np.maximum(y[:,0],yh[:,0])\n",
        "  x2=np.minimum(y[:,1],yh[:,1])\n",
        "  y1=np.maximum(y[:,2],yh[:,2])\n",
        "  y2=np.minimum(y[:,3],yh[:,3])\n",
        "  i=np.maximum(x2-x1,0)*np.maximum(y2-y1,0)\n",
        "  u=(y[:,1]-y[:,0])*(y[:,3]-y[:,2])+(yh[:,1]-yh[:,0])*(yh[:,3]-yh[:,2])-i\n",
        "  iou=i/u\n",
        "  return np.sum(iou)/len(iou)"
      ],
      "execution_count": 0,
      "outputs": []
    },
    {
      "metadata": {
        "id": "nI9WsAlRdWOJ",
        "colab_type": "code",
        "colab": {
          "base_uri": "https://localhost:8080/",
          "height": 84
        },
        "outputId": "3ec8a20b-6fab-4cbc-9ee2-b6cdd27a29d0"
      },
      "cell_type": "code",
      "source": [
        "for i in range(30):  \n",
        "  model.fit(X,Y,epochs=5,batch_size=32,shuffle=True)\n",
        "  prediction=model.predict(X,batch_size=32,verbose=1)\n",
        "  accuracy=iou(Y,prediction)\n",
        "  print(accuracy)\n",
        "\n",
        "\n",
        " \n",
        "\n"
      ],
      "execution_count": 0,
      "outputs": [
        {
          "output_type": "stream",
          "text": [
            "Epoch 1/5\n",
            "365/365 [==============================] - 295s 809ms/step - loss: 7688.6326 - acc: 0.8986\n",
            "Epoch 2/5\n",
            " 64/365 [====>.........................] - ETA: 4:02 - loss: 7082.4368 - acc: 0.8750"
          ],
          "name": "stdout"
        }
      ]
    },
    {
      "metadata": {
        "id": "i2nlnJ7GdfHd",
        "colab_type": "code",
        "colab": {}
      },
      "cell_type": "code",
      "source": [
        ""
      ],
      "execution_count": 0,
      "outputs": []
    }
  ]
}