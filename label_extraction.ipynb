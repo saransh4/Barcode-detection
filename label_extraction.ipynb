{
 "cells": [
  {
   "cell_type": "code",
   "execution_count": 36,
   "metadata": {},
   "outputs": [],
   "source": [
    "import cv2\n",
    "import numpy as np\n",
    "import os\n",
    "import pandas as pd\n",
    "import matplotlib.pyplot as plt\n"
   ]
  },
  {
   "cell_type": "code",
   "execution_count": 6,
   "metadata": {},
   "outputs": [],
   "source": [
    "image=cv2.imread(\"C:\\\\Users\\\\Arun\\\\Desktop\\\\1d_barcode_hough\\\\1d_barcode_hough\\\\Detection\\\\IMAG0535.png\",cv2.IMREAD_GRAYSCALE)"
   ]
  },
  {
   "cell_type": "code",
   "execution_count": 49,
   "metadata": {},
   "outputs": [],
   "source": [
    "path1=\"C:\\\\Users\\\\Arun\\\\Desktop\\\\1d_barcode_hough\\\\1d_barcode_hough\\\\Detection\"\n",
    "path2=\"C:\\\\Users\\\\Arun\\\\Desktop\\\\1d_barcode_hough\\\\1d_barcode_hough\\\\Original\\\\\""
   ]
  },
  {
   "cell_type": "code",
   "execution_count": 19,
   "metadata": {},
   "outputs": [],
   "source": []
  },
  {
   "cell_type": "code",
   "execution_count": 61,
   "metadata": {},
   "outputs": [],
   "source": [
    "df=pd.DataFrame(columns=['X1','X2','Y1','Y2'])\n",
    "train=[]\n",
    "for image in os.listdir(path1):\n",
    "    try:\n",
    "        orig_img=cv2.resize(cv2.imread(path2+image[:-4]+\".jpgbarcodeOrig.png\",cv2.IMREAD_GRAYSCALE),(200,150))\n",
    "        image=os.path.join(path1,image)\n",
    "        img=cv2.imread(image,cv2.IMREAD_GRAYSCALE)\n",
    "        c_img=cv2.imread(image,cv2.IMREAD_COLOR)\n",
    "        train.append(orig_img)\n",
    "        X=np.sum(img,axis=0)\n",
    "        Y=np.sum(img,axis=1)\n",
    "        for i in range(X.shape[0]):\n",
    "            if X[i]!=0:\n",
    "                X1=i+1\n",
    "                break\n",
    "        for i in reversed(range(X.shape[0])):\n",
    "            if X[i]!=0:\n",
    "                X2=i+1\n",
    "                break\n",
    "        for i in range(Y.shape[0]):\n",
    "            if Y[i]!=0:\n",
    "                Y1=i+1\n",
    "                break\n",
    "        for i in reversed(range(Y.shape[0])):\n",
    "            if Y[i]!=0:\n",
    "                Y2=i+1\n",
    "                break\n",
    "        boxed=cv2.rectangle(c_img, (X1, Y1), (X2, Y2), (0, 255, 0), 2)\n",
    "        df=df.append({'X1':X1,'X2':X2,'Y1':Y1,'Y2':Y2},ignore_index=True)\n",
    "    except:\n",
    "        pass"
   ]
  },
  {
   "cell_type": "code",
   "execution_count": 62,
   "metadata": {},
   "outputs": [],
   "source": [
    "train=np.array(train)"
   ]
  },
  {
   "cell_type": "code",
   "execution_count": 67,
   "metadata": {},
   "outputs": [],
   "source": [
    "np.save(path2+\"train.npy\",train)"
   ]
  },
  {
   "cell_type": "code",
   "execution_count": 69,
   "metadata": {},
   "outputs": [],
   "source": [
    "df.to_csv(path2+\"labels.csv\",index=None)"
   ]
  },
  {
   "cell_type": "code",
   "execution_count": null,
   "metadata": {},
   "outputs": [],
   "source": []
  }
 ],
 "metadata": {
  "kernelspec": {
   "display_name": "Python 3",
   "language": "python",
   "name": "python3"
  },
  "language_info": {
   "codemirror_mode": {
    "name": "ipython",
    "version": 3
   },
   "file_extension": ".py",
   "mimetype": "text/x-python",
   "name": "python",
   "nbconvert_exporter": "python",
   "pygments_lexer": "ipython3",
   "version": "3.7.1"
  }
 },
 "nbformat": 4,
 "nbformat_minor": 2
}
